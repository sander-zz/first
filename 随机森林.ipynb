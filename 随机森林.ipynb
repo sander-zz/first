{
 "cells": [
  {
   "cell_type": "code",
   "execution_count": 2,
   "metadata": {
    "pycharm": {
     "is_executing": false
    }
   },
   "outputs": [],
   "source": [
    "import numpy as np\n",
    "import pandas as pd\n",
    "import matplotlib.pyplot as plt"
   ]
  },
  {
   "cell_type": "code",
   "execution_count": 3,
   "metadata": {
    "pycharm": {
     "is_executing": false,
     "name": "#%% 将Excel数据导入存为数组\n"
    }
   },
   "outputs": [],
   "source": [
    "x = pd.read_excel('train.xlsx',usecols='B:U').values\n",
    "y = pd.read_excel('train.xlsx',usecols='V').values.reshape(1500,)\n",
    "p = pd.read_excel('test.xlsx',usecols='B:U').values\n",
    "\n",
    "from sklearn.model_selection import train_test_split\n",
    "x_train,x_test,y_train,y_test = train_test_split(x,y,train_size=0.6)\n",
    "\n"
   ]
  },
  {
   "cell_type": "code",
   "execution_count": 4,
   "metadata": {
    "pycharm": {
     "is_executing": false,
     "name": "#%% 数据处理归一化\n"
    }
   },
   "outputs": [],
   "source": [
    "from sklearn.preprocessing import StandardScaler\n",
    "standarScaler = StandardScaler()\n",
    "standarScaler.fit(x_train)\n",
    "x_train = standarScaler.transform(x_train)\n",
    "\n",
    "standarScaler.fit(x_test)\n",
    "x_test = standarScaler.transform(x_test)"
   ]
  },
  {
   "cell_type": "code",
   "execution_count": 5,
   "metadata": {
    "pycharm": {
     "is_executing": false,
     "name": "#%% 随机森林算法\n"
    }
   },
   "outputs": [
    {
     "name": "stdout",
     "text": [
      "0.855\n"
     ],
     "output_type": "stream"
    },
    {
     "data": {
      "text/plain": "array([2, 1, 1, 3, 0, 1, 1, 3, 3, 3, 0, 1, 2, 3, 0, 3, 3, 1, 2, 1, 1, 0,\n       1, 0, 0, 0, 2, 3, 1, 1, 0, 3, 0, 0, 2, 3, 1, 0, 2, 1, 0, 1, 1, 1,\n       2, 1, 2, 1, 2, 2, 2, 0, 0, 2, 3, 1, 3, 3, 3, 2, 0, 0, 1, 2, 3, 1,\n       0, 3, 1, 0, 3, 2, 1, 0, 0, 0, 2, 0, 3, 3, 0, 2, 2, 2, 1, 2, 3, 3,\n       3, 3, 0, 1, 3, 0, 1, 2, 1, 3, 1, 3, 2, 0, 1, 0, 0, 0, 0, 1, 0, 2,\n       3, 0, 2, 2, 0, 3, 3, 1, 2, 2, 0, 2, 0, 2, 1, 2, 3, 1, 0, 3, 3, 0,\n       3, 1, 2, 3, 3, 2, 0, 2, 2, 0, 0, 1, 1, 0, 2, 0, 3, 3, 1, 0, 1, 1,\n       2, 2, 0, 2, 0, 2, 1, 2, 0, 1, 3, 1, 1, 1, 1, 3, 1, 0, 0, 1, 0, 2,\n       2, 3, 0, 3, 1, 0, 2, 0, 3, 1, 2, 2, 3, 1, 3, 2, 2, 3, 1, 3, 1, 1,\n       1, 3, 2, 3, 0, 0, 2, 3, 2, 0, 1, 0, 0, 0, 0, 3, 0, 0, 0, 3, 1, 2,\n       0, 3, 0, 2, 1, 2, 1, 1, 0, 1, 2, 2, 2, 1, 0, 2, 3, 2, 0, 0, 1, 1,\n       3, 3, 0, 3, 3, 3, 1, 0, 3, 3, 3, 3, 0, 2, 1, 3, 2, 1, 0, 0, 2, 0,\n       0, 2, 0, 1, 1, 0, 1, 0, 1, 0, 2, 0, 2, 1, 0, 3, 3, 0, 1, 1, 2, 1,\n       3, 3, 2, 1, 1, 3, 2, 3, 0, 2, 3, 3, 2, 0, 2, 2, 3, 3, 2, 2, 1, 3,\n       3, 1, 1, 2, 0, 0, 0, 0, 2, 1, 0, 3, 1, 0, 2, 0, 2, 3, 0, 1, 2, 3,\n       0, 1, 2, 2, 1, 3, 1, 0, 0, 3, 2, 0, 0, 3, 1, 0, 3, 1, 1, 2, 0, 2,\n       1, 0, 2, 0, 0, 0, 2, 3, 1, 1, 2, 1, 3, 0, 3, 2, 2, 2, 0, 0, 2, 3,\n       0, 0, 1, 0, 2, 0, 0, 0, 0, 2, 3, 1, 1, 2, 3, 3, 0, 0, 1, 2, 2, 0,\n       2, 2, 0, 1, 2, 3, 3, 2, 2, 1, 3, 1, 1, 0, 2, 0, 3, 2, 3, 2, 2, 1,\n       0, 1, 1, 2, 2, 3, 1, 1, 2, 2, 3, 0, 0, 2, 0, 1, 3, 2, 3, 3, 3, 2,\n       3, 2, 0, 1, 2, 0, 0, 1, 1, 3, 1, 2, 2, 0, 0, 1, 3, 2, 2, 0, 2, 0,\n       1, 3, 2, 1, 0, 2, 2, 1, 1, 0, 3, 1, 1, 2, 1, 2, 1, 2, 3, 2, 0, 2,\n       1, 2, 3, 1, 3, 0, 3, 2, 0, 1, 0, 3, 2, 3, 0, 2, 0, 1, 0, 2, 3, 2,\n       1, 0, 0, 3, 2, 3, 3, 1, 0, 2, 2, 1, 2, 3, 0, 0, 0, 3, 0, 0, 3, 3,\n       3, 0, 2, 3, 0, 2, 1, 0, 0, 1, 3, 0, 0, 3, 2, 1, 3, 3, 2, 1, 0, 2,\n       2, 0, 0, 1, 2, 1, 1, 2, 2, 0, 2, 3, 0, 1, 2, 3, 3, 3, 0, 2, 3, 0,\n       0, 2, 1, 2, 2, 1, 1, 3, 3, 2, 1, 1, 1, 0, 0, 3, 0, 2, 3, 0, 0, 0,\n       0, 0, 1, 3, 1, 1], dtype=int64)"
     },
     "metadata": {},
     "output_type": "execute_result",
     "execution_count": 5
    }
   ],
   "source": [
    "from sklearn.ensemble import RandomForestClassifier\n",
    "\n",
    "rf_clf = RandomForestClassifier(n_estimators=500,random_state=666,oob_score=True,n_jobs=-1)\n",
    "\n",
    "rf_clf.fit(x_train,y_train)\n",
    "\n",
    "y_predict = rf_clf.predict(x_test)\n",
    "print(rf_clf.score(x_test,y_test))\n",
    "y_predict"
   ]
  },
  {
   "cell_type": "code",
   "execution_count": 5,
   "metadata": {
    "pycharm": {
     "is_executing": false,
     "name": "#%% ROC曲线\n"
    }
   },
   "outputs": [
    {
     "data": {
      "text/plain": "<Figure size 432x288 with 1 Axes>",
      "image/png": "[encoded data removed]"
     },
     "metadata": {
      "needs_background": "light"
     },
     "output_type": "display_data"
    }
   ],
   "source": [
    "fpr = dict()\n",
    "tpr = dict()\n",
    "roc_auc = dict()\n",
    "\n",
    "from sklearn.preprocessing import label_binarize\n",
    "from sklearn.metrics import roc_curve,auc\n",
    "from scipy import interp\n",
    "\n",
    "y_test = label_binarize(y_test, classes=[0, 1, 2, 3])\n",
    "y_predict = label_binarize(y_predict,classes=[0, 1, 2, 3])\n",
    "n_classes = y_test.shape[1]\n",
    "#得到每个点的roc曲线值\n",
    "for i in range(n_classes):\n",
    "    fpr[i], tpr[i], _ = roc_curve(y_test[:, i], y_predict[:, i])\n",
    "    roc_auc[i] = auc(fpr[i], tpr[i])\n",
    "    \n",
    "all_fpr = np.unique(np.concatenate([fpr[i] for i in range(n_classes)]))   #拼接fpr数组并去除重复数字\n",
    "\n",
    "mean_tpr = np.zeros_like(all_fpr)           #创建一个与all_fpr同维数的矩阵\n",
    "for i in range(n_classes):\n",
    "    mean_tpr += interp(all_fpr, fpr[i], tpr[i])\n",
    "\n",
    "mean_tpr /= n_classes\n",
    "roc_auc[\"macro\"] = auc(all_fpr, mean_tpr)\n",
    "plt.plot(all_fpr, mean_tpr,\n",
    "        label='macro-average ROC curve (area = {0:0.2f})'\n",
    "         ''.format(roc_auc[\"macro\"]),\n",
    "         color='navy')\n",
    "\n",
    "plt.xlim([0.0, 1.0])\n",
    "plt.ylim([0.0, 1.05])\n",
    "plt.xlabel('False Positive Rate')\n",
    "plt.ylabel('True Positive Rate')\n",
    "plt.legend(loc=\"lower right\")  #表注\n",
    "plt.show()"
   ]
  },
  {
   "cell_type": "code",
   "execution_count": 6,
   "metadata": {
    "pycharm": {
     "is_executing": false,
     "name": "#%% 交叉验证原理\n"
    }
   },
   "outputs": [],
   "source": [
    "# k = 4   #四折交叉验证\n",
    "# \n",
    "# k_samples_count = x_train.shape[0]//k\n",
    "# \n",
    "# for fold in range(k):\n",
    "#     validation_begin = k_samples_count*fold\n",
    "#     validation_end = k_samples_count*(fold+1)\n",
    "#     \n",
    "#     validation_data = x_train[validation_begin:validation_end]\n",
    "#     \n",
    "#     train_data = np.vstack([\n",
    "#         x_train[:validation_begin],\n",
    "#         x_train[validation_end:]\n",
    "#     ])\n"
   ]
  },
  {
   "cell_type": "code",
   "execution_count": 6,
   "metadata": {
    "pycharm": {
     "is_executing": false,
     "name": "#%% sklearn封装的交叉验证\n"
    }
   },
   "outputs": [
    {
     "name": "stderr",
     "text": [
      "E:\\Anaconda3\\Anaconda3_setup\\lib\\site-packages\\sklearn\\model_selection\\_split.py:1978: FutureWarning: The default value of cv will change from 3 to 5 in version 0.22. Specify it explicitly to silence this warning.\n",
      "  warnings.warn(CV_WARNING, FutureWarning)\n"
     ],
     "output_type": "stream"
    },
    {
     "data": {
      "text/plain": "array([0.86626747, 0.852     , 0.87975952])"
     },
     "metadata": {},
     "output_type": "execute_result",
     "execution_count": 6
    }
   ],
   "source": [
    "from sklearn.model_selection import cross_val_score\n",
    "rf_clf = rf_clf = RandomForestClassifier(n_estimators=500,random_state=666,oob_score=True,n_jobs=-1)\n",
    "cross_val_score(rf_clf,x_train,y_train)\n",
    "\n",
    "\n"
   ]
  }
 ],
 "metadata": {
  "kernelspec": {
   "display_name": "Python 3",
   "language": "python",
   "name": "python3"
  },
  "language_info": {
   "codemirror_mode": {
    "name": "ipython",
    "version": 3
   },
   "file_extension": ".py",
   "mimetype": "text/x-python",
   "name": "python",
   "nbconvert_exporter": "python",
   "pygments_lexer": "ipython3",
   "version": "3.7.4"
  },
  "pycharm": {
   "stem_cell": {
    "cell_type": "raw",
    "source": [],
    "metadata": {
     "collapsed": false
    }
   }
  }
 },
 "nbformat": 4,
 "nbformat_minor": 1
}